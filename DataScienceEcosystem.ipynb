{
 "cells": [
  {
   "cell_type": "markdown",
   "id": "f2bc44a0-0450-42c6-99e7-df04145ed0c6",
   "metadata": {},
   "source": [
    "# Data Science Tools and Ecosystem"
   ]
  },
  {
   "cell_type": "markdown",
   "id": "32743e49-638f-4c57-85fe-6788b2aa283d",
   "metadata": {},
   "source": [
    "In this notebook, Data Science Tools and Ecosystem are summarized."
   ]
  },
  {
   "cell_type": "markdown",
   "id": "2a488882-675f-42c0-a90e-6523ad497a68",
   "metadata": {},
   "source": [
    "Some of the popular languages that Data Scientists use are:\n",
    "\n",
    "1.Python\n",
    "\n",
    "2.R\n",
    "\n",
    "3.SQL"
   ]
  },
  {
   "cell_type": "markdown",
   "id": "5f480e48-19cb-464b-94f3-839dca877d63",
   "metadata": {},
   "source": [
    "Some of the commonly used libraries used by Data Scientists include:\n",
    "\n",
    "1.Pandas\n",
    "\n",
    "3.NumPy\n",
    "\n",
    "4.Matplotlib"
   ]
  },
  {
   "cell_type": "markdown",
   "id": "c5da2758-877a-4325-ad08-4bd776720827",
   "metadata": {},
   "source": [
    "| Data Science Tools      |\r\n",
    "|-------------------------|\r\n",
    "| Jupyter Notebook        |\r\n",
    "| RStudio                 |\r\n",
    "| Apache Zeppelin         |\r\n"
   ]
  },
  {
   "cell_type": "markdown",
   "id": "90ea74d0-0986-45b0-bbb3-06c254b6aa10",
   "metadata": {},
   "source": [
    "### Below are a few examples of evaluating arithmetic expressions in Python."
   ]
  },
  {
   "cell_type": "code",
   "execution_count": 3,
   "id": "bc6fa631-a167-4c9c-94cb-fec79e46e660",
   "metadata": {},
   "outputs": [
    {
     "data": {
      "text/plain": [
       "17"
      ]
     },
     "execution_count": 3,
     "metadata": {},
     "output_type": "execute_result"
    }
   ],
   "source": [
    "# This a simple arithmetic expression to multiply then add integers\n",
    "(3*4)+5\n"
   ]
  },
  {
   "cell_type": "code",
   "execution_count": 4,
   "id": "85c204bd-7745-476c-ae9d-eb7502c01ae6",
   "metadata": {},
   "outputs": [
    {
     "data": {
      "text/plain": [
       "3.3333333333333335"
      ]
     },
     "execution_count": 4,
     "metadata": {},
     "output_type": "execute_result"
    }
   ],
   "source": [
    "# This will convert 200 minutes to hours by diving by 60\n",
    "200 / 60\n"
   ]
  },
  {
   "cell_type": "markdown",
   "id": "73080636-7bb1-4936-af99-b834ce025e86",
   "metadata": {},
   "source": [
    "**Objectives:**\n",
    "- List popular languages for Data Science\n",
    "- List commonly used libraries for Data Science\n",
    "- Create and run arithmetic expressions in Python\n",
    "- Share Jupyter Notebooks via GitHub\n"
   ]
  },
  {
   "cell_type": "markdown",
   "id": "9200283e-394c-46f8-bc65-fe798e9d81e5",
   "metadata": {},
   "source": [
    "## Author\n",
    "Abderrahim EL AMRANI\n"
   ]
  },
  {
   "cell_type": "code",
   "execution_count": null,
   "id": "6250358e-2998-496d-87c1-021c27126ca0",
   "metadata": {},
   "outputs": [],
   "source": []
  }
 ],
 "metadata": {
  "kernelspec": {
   "display_name": "Python 3 (ipykernel)",
   "language": "python",
   "name": "python3"
  },
  "language_info": {
   "codemirror_mode": {
    "name": "ipython",
    "version": 3
   },
   "file_extension": ".py",
   "mimetype": "text/x-python",
   "name": "python",
   "nbconvert_exporter": "python",
   "pygments_lexer": "ipython3",
   "version": "3.11.7"
  }
 },
 "nbformat": 4,
 "nbformat_minor": 5
}
